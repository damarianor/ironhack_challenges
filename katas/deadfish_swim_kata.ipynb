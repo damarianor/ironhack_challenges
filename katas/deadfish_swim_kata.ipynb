{
 "cells": [
  {
   "cell_type": "code",
   "execution_count": 1,
   "id": "169982ee",
   "metadata": {},
   "outputs": [],
   "source": [
    "def parse(data):\n",
    "    var = []\n",
    "    i = 0\n",
    "    for char in data:\n",
    "        if (char == 'i'):\n",
    "            i = i + 1\n",
    "        elif (char == 'd'):\n",
    "            i = i - 1\n",
    "        elif (char == 's'):\n",
    "            i = i * i\n",
    "        elif (char == 'o'):\n",
    "            var.append(i)\n",
    "    return var"
   ]
  },
  {
   "cell_type": "code",
   "execution_count": 8,
   "id": "733b42bd",
   "metadata": {},
   "outputs": [
    {
     "data": {
      "text/plain": [
       "[1, 0]"
      ]
     },
     "execution_count": 8,
     "metadata": {},
     "output_type": "execute_result"
    }
   ],
   "source": [
    "parse('iodso')"
   ]
  }
 ],
 "metadata": {
  "kernelspec": {
   "display_name": "Python [conda env:m1_env]",
   "language": "python",
   "name": "conda-env-m1_env-py"
  },
  "language_info": {
   "codemirror_mode": {
    "name": "ipython",
    "version": 3
   },
   "file_extension": ".py",
   "mimetype": "text/x-python",
   "name": "python",
   "nbconvert_exporter": "python",
   "pygments_lexer": "ipython3",
   "version": "3.9.16"
  }
 },
 "nbformat": 4,
 "nbformat_minor": 5
}
