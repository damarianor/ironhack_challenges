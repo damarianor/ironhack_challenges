{
 "cells": [
  {
   "cell_type": "code",
   "execution_count": null,
   "id": "a09ae3be",
   "metadata": {},
   "outputs": [],
   "source": [
    "SELECT capital from countries \n",
    "where continent in ('Afrika' , 'Africa')\n",
    "and UPPER(country) like 'E%'\n",
    "order by capital asc\n",
    "limit 3"
   ]
  }
 ],
 "metadata": {
  "kernelspec": {
   "display_name": "Python [conda env:m1_env]",
   "language": "python",
   "name": "conda-env-m1_env-py"
  },
  "language_info": {
   "codemirror_mode": {
    "name": "ipython",
    "version": 3
   },
   "file_extension": ".py",
   "mimetype": "text/x-python",
   "name": "python",
   "nbconvert_exporter": "python",
   "pygments_lexer": "ipython3",
   "version": "3.9.16"
  }
 },
 "nbformat": 4,
 "nbformat_minor": 5
}
