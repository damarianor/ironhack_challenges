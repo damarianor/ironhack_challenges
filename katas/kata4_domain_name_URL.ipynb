{
 "cells": [
  {
   "cell_type": "code",
   "execution_count": 84,
   "id": "fa6edc6c",
   "metadata": {},
   "outputs": [],
   "source": [
    "def domain_name(url):\n",
    "    url = 'http://google.com'\n",
    "    return url.split(\"http:\")[-1].split(\"//\")[-1].split(\".\")[0]"
   ]
  },
  {
   "cell_type": "code",
   "execution_count": 85,
   "id": "3fd26f28",
   "metadata": {},
   "outputs": [
    {
     "data": {
      "text/plain": [
       "'google'"
      ]
     },
     "execution_count": 85,
     "metadata": {},
     "output_type": "execute_result"
    }
   ],
   "source": [
    "domain_name(url)"
   ]
  },
  {
   "cell_type": "code",
   "execution_count": null,
   "id": "e765ce5e",
   "metadata": {},
   "outputs": [],
   "source": [
    "#url.split(\"http:\") -> te quita http:\n",
    "#[-1] -> te toma el restante: //google.com\n",
    "#split(\"//\") -> te quita //\n",
    "#[-1] -> te toma el restante: google.com\n",
    "#split(\".\") -> te quita desde el punto, quedando solo googe\n",
    "#[0] -> te toma desde la primera posición, es decir, desde la G porque solo queda google"
   ]
  }
 ],
 "metadata": {
  "kernelspec": {
   "display_name": "Python [conda env:m1_env]",
   "language": "python",
   "name": "conda-env-m1_env-py"
  },
  "language_info": {
   "codemirror_mode": {
    "name": "ipython",
    "version": 3
   },
   "file_extension": ".py",
   "mimetype": "text/x-python",
   "name": "python",
   "nbconvert_exporter": "python",
   "pygments_lexer": "ipython3",
   "version": "3.9.16"
  }
 },
 "nbformat": 4,
 "nbformat_minor": 5
}
