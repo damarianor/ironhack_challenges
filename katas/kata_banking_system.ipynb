{
 "cells": [
  {
   "cell_type": "code",
   "execution_count": 19,
   "id": "5d463b51",
   "metadata": {},
   "outputs": [],
   "source": [
    "class User(object):\n",
    "    def __init__(self, name, balance, checking_account):\n",
    "        self.name = name\n",
    "        self.balance = balance\n",
    "        self.checking_account = checking_account\n",
    "       \n",
    "    def withdraw(self, money):\n",
    "        if money > self.balance:\n",
    "            raise ValueError(\"Not enough money\")\n",
    "        else:\n",
    "            self.balance = self.balance - money\n",
    "        return f'{self.name} has {self.balance}.'\n",
    "   \n",
    "    def check(self, other, money):\n",
    "        if other.balance < money:\n",
    "            raise ValueError(\"Not enough money\")\n",
    "        elif other.checking_account == False:\n",
    "            raise ValueError(\"Other user not available for checking\")\n",
    "        else:\n",
    "            self.balance = self.balance + money\n",
    "            other.balance = other.balance - money\n",
    "        return f'{self.name} has {self.balance} and {other.name} has {other.balance}.'\n",
    "   \n",
    "    def add_cash(self, money):      \n",
    "        self.balance = self.balance + money\n",
    "        return f'{self.name} has {self.balance}.'"
   ]
  },
  {
   "cell_type": "code",
   "execution_count": 20,
   "id": "51ff5f20",
   "metadata": {},
   "outputs": [],
   "source": [
    "Jeff = User('Jeff', 70, True)\n",
    "Joe = User('Joe', 70, True)"
   ]
  }
 ],
 "metadata": {
  "kernelspec": {
   "display_name": "Python [conda env:m1_env]",
   "language": "python",
   "name": "conda-env-m1_env-py"
  },
  "language_info": {
   "codemirror_mode": {
    "name": "ipython",
    "version": 3
   },
   "file_extension": ".py",
   "mimetype": "text/x-python",
   "name": "python",
   "nbconvert_exporter": "python",
   "pygments_lexer": "ipython3",
   "version": "3.9.16"
  }
 },
 "nbformat": 4,
 "nbformat_minor": 5
}
