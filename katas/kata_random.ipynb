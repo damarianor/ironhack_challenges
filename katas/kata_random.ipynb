{
 "cells": [
  {
   "cell_type": "code",
   "execution_count": 50,
   "id": "2f78cccb",
   "metadata": {},
   "outputs": [],
   "source": [
    "class Quark(object):\n",
    "    def __init__(self, color, flavor):\n",
    "        self.color = color\n",
    "        self.flavor = flavor\n",
    "        self.baryon_number = 1/3\n",
    "        \n",
    "    def interact(self, another_quark):\n",
    "        self.color, other.color = other.color, self.color"
   ]
  },
  {
   "cell_type": "code",
   "execution_count": 51,
   "id": "ce45dede",
   "metadata": {},
   "outputs": [],
   "source": [
    "q1 = Quark(\"red\", \"up\")\n",
    "q2 = Quark(\"blue\", \"strange\")"
   ]
  },
  {
   "cell_type": "code",
   "execution_count": 49,
   "id": "25498051",
   "metadata": {},
   "outputs": [
    {
     "ename": "NameError",
     "evalue": "name 'self' is not defined",
     "output_type": "error",
     "traceback": [
      "\u001b[0;31m---------------------------------------------------------------------------\u001b[0m",
      "\u001b[0;31mNameError\u001b[0m                                 Traceback (most recent call last)",
      "Cell \u001b[0;32mIn[49], line 1\u001b[0m\n\u001b[0;32m----> 1\u001b[0m q2\u001b[38;5;241m.\u001b[39minteract(\u001b[38;5;28;43mself\u001b[39;49m\u001b[38;5;241m.\u001b[39mcolor)\n",
      "\u001b[0;31mNameError\u001b[0m: name 'self' is not defined"
     ]
    }
   ],
   "source": [
    "q2.interact(self.color)"
   ]
  },
  {
   "cell_type": "code",
   "execution_count": null,
   "id": "8b11ada5",
   "metadata": {},
   "outputs": [],
   "source": []
  },
  {
   "cell_type": "code",
   "execution_count": null,
   "id": "dd1b49de",
   "metadata": {},
   "outputs": [],
   "source": []
  }
 ],
 "metadata": {
  "kernelspec": {
   "display_name": "Python [conda env:m1_env]",
   "language": "python",
   "name": "conda-env-m1_env-py"
  },
  "language_info": {
   "codemirror_mode": {
    "name": "ipython",
    "version": 3
   },
   "file_extension": ".py",
   "mimetype": "text/x-python",
   "name": "python",
   "nbconvert_exporter": "python",
   "pygments_lexer": "ipython3",
   "version": "3.9.16"
  }
 },
 "nbformat": 4,
 "nbformat_minor": 5
}
